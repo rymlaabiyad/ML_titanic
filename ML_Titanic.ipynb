{
 "cells": [
  {
   "cell_type": "markdown",
   "metadata": {},
   "source": [
    "## Titanic: Machine Learning from Disaster\n",
    "\n",
    "The sinking of the RMS Titanic is one of the most infamous shipwrecks in history.  On April 15, 1912, during her maiden voyage, the Titanic sank after colliding with an iceberg, killing 1502 out of 2224 passengers and crew. This sensational tragedy shocked the international community and led to better safety regulations for ships.\n",
    "\n",
    "One of the reasons that the shipwreck led to such loss of life was that there were not enough lifeboats for the passengers and crew. Although there was some element of luck involved in surviving the sinking, some groups of people were more likely to survive than others, such as women, children, and the upper-class.\n",
    "\n",
    "We have structured the notebook in an intuitive way to the predictive modeling problem. We check existing features, only to add new features and some Machine Learning Concepts in data modelling.\n",
    "\n",
    "### Contents of the Notebook <a class=\"anchor\" id=\"toc\"></a>\n",
    "\n",
    "* [Exploratory Data Analysis](#f1)\n",
    "    * [Gender vs Survival](#f1.1)\n",
    "    * [Passenger Classes vs Survival](#f1.3)\n",
    "    * [Initials vs Survival](#f1.4)\n",
    "    * [Group/Family vs Survival](#f1.5)\n",
    "    * [Fare vs Survival](#f1.6)\n",
    "    * [Embarked vs Survival](#f1.7)\n",
    " \n",
    "* [Handling Missing Values](#f2)\n",
    "    * [Embarked:Missing Value](#f2.1)\n",
    "    * [Age:Missing Value](#f2.2)\n",
    "    * [Cabin:Missing Value](#f2.3)\n",
    "* [Feature Engineering](#f3)"
   ]
  },
  {
   "cell_type": "markdown",
   "metadata": {},
   "source": [
    "# Exploratory Data Analysis <a class=\"anchor\" id=\"f1\"></a>"
   ]
  },
  {
   "cell_type": "code",
   "execution_count": 1,
   "metadata": {},
   "outputs": [
    {
     "data": {
      "text/plain": [
       "(891, 12)"
      ]
     },
     "execution_count": 1,
     "metadata": {},
     "output_type": "execute_result"
    }
   ],
   "source": [
    "import pandas as pd\n",
    "import numpy as np\n",
    "import matplotlib.pyplot as plt\n",
    "import seaborn as sns\n",
    "from sklearn.neighbors import KNeighborsRegressor\n",
    "from sklearn.model_selection import train_test_split\n",
    "\n",
    "path = './input/'\n",
    "\n",
    "data = pd.read_csv(path + 'train.csv')\n",
    "data.shape"
   ]
  },
  {
   "cell_type": "code",
   "execution_count": 2,
   "metadata": {},
   "outputs": [
    {
     "data": {
      "text/html": [
       "<div>\n",
       "<style scoped>\n",
       "    .dataframe tbody tr th:only-of-type {\n",
       "        vertical-align: middle;\n",
       "    }\n",
       "\n",
       "    .dataframe tbody tr th {\n",
       "        vertical-align: top;\n",
       "    }\n",
       "\n",
       "    .dataframe thead th {\n",
       "        text-align: right;\n",
       "    }\n",
       "</style>\n",
       "<table border=\"1\" class=\"dataframe\">\n",
       "  <thead>\n",
       "    <tr style=\"text-align: right;\">\n",
       "      <th></th>\n",
       "      <th>PassengerId</th>\n",
       "      <th>Survived</th>\n",
       "      <th>Pclass</th>\n",
       "      <th>Name</th>\n",
       "      <th>Sex</th>\n",
       "      <th>Age</th>\n",
       "      <th>SibSp</th>\n",
       "      <th>Parch</th>\n",
       "      <th>Ticket</th>\n",
       "      <th>Fare</th>\n",
       "      <th>Cabin</th>\n",
       "      <th>Embarked</th>\n",
       "    </tr>\n",
       "  </thead>\n",
       "  <tbody>\n",
       "    <tr>\n",
       "      <th>0</th>\n",
       "      <td>1</td>\n",
       "      <td>0</td>\n",
       "      <td>3</td>\n",
       "      <td>Braund, Mr. Owen Harris</td>\n",
       "      <td>male</td>\n",
       "      <td>22.0</td>\n",
       "      <td>1</td>\n",
       "      <td>0</td>\n",
       "      <td>A/5 21171</td>\n",
       "      <td>7.2500</td>\n",
       "      <td>NaN</td>\n",
       "      <td>S</td>\n",
       "    </tr>\n",
       "    <tr>\n",
       "      <th>1</th>\n",
       "      <td>2</td>\n",
       "      <td>1</td>\n",
       "      <td>1</td>\n",
       "      <td>Cumings, Mrs. John Bradley (Florence Briggs Th...</td>\n",
       "      <td>female</td>\n",
       "      <td>38.0</td>\n",
       "      <td>1</td>\n",
       "      <td>0</td>\n",
       "      <td>PC 17599</td>\n",
       "      <td>71.2833</td>\n",
       "      <td>C85</td>\n",
       "      <td>C</td>\n",
       "    </tr>\n",
       "    <tr>\n",
       "      <th>2</th>\n",
       "      <td>3</td>\n",
       "      <td>1</td>\n",
       "      <td>3</td>\n",
       "      <td>Heikkinen, Miss. Laina</td>\n",
       "      <td>female</td>\n",
       "      <td>26.0</td>\n",
       "      <td>0</td>\n",
       "      <td>0</td>\n",
       "      <td>STON/O2. 3101282</td>\n",
       "      <td>7.9250</td>\n",
       "      <td>NaN</td>\n",
       "      <td>S</td>\n",
       "    </tr>\n",
       "    <tr>\n",
       "      <th>3</th>\n",
       "      <td>4</td>\n",
       "      <td>1</td>\n",
       "      <td>1</td>\n",
       "      <td>Futrelle, Mrs. Jacques Heath (Lily May Peel)</td>\n",
       "      <td>female</td>\n",
       "      <td>35.0</td>\n",
       "      <td>1</td>\n",
       "      <td>0</td>\n",
       "      <td>113803</td>\n",
       "      <td>53.1000</td>\n",
       "      <td>C123</td>\n",
       "      <td>S</td>\n",
       "    </tr>\n",
       "    <tr>\n",
       "      <th>4</th>\n",
       "      <td>5</td>\n",
       "      <td>0</td>\n",
       "      <td>3</td>\n",
       "      <td>Allen, Mr. William Henry</td>\n",
       "      <td>male</td>\n",
       "      <td>35.0</td>\n",
       "      <td>0</td>\n",
       "      <td>0</td>\n",
       "      <td>373450</td>\n",
       "      <td>8.0500</td>\n",
       "      <td>NaN</td>\n",
       "      <td>S</td>\n",
       "    </tr>\n",
       "  </tbody>\n",
       "</table>\n",
       "</div>"
      ],
      "text/plain": [
       "   PassengerId  Survived  Pclass  \\\n",
       "0            1         0       3   \n",
       "1            2         1       1   \n",
       "2            3         1       3   \n",
       "3            4         1       1   \n",
       "4            5         0       3   \n",
       "\n",
       "                                                Name     Sex   Age  SibSp  \\\n",
       "0                            Braund, Mr. Owen Harris    male  22.0      1   \n",
       "1  Cumings, Mrs. John Bradley (Florence Briggs Th...  female  38.0      1   \n",
       "2                             Heikkinen, Miss. Laina  female  26.0      0   \n",
       "3       Futrelle, Mrs. Jacques Heath (Lily May Peel)  female  35.0      1   \n",
       "4                           Allen, Mr. William Henry    male  35.0      0   \n",
       "\n",
       "   Parch            Ticket     Fare Cabin Embarked  \n",
       "0      0         A/5 21171   7.2500   NaN        S  \n",
       "1      0          PC 17599  71.2833   C85        C  \n",
       "2      0  STON/O2. 3101282   7.9250   NaN        S  \n",
       "3      0            113803  53.1000  C123        S  \n",
       "4      0            373450   8.0500   NaN        S  "
      ]
     },
     "execution_count": 2,
     "metadata": {},
     "output_type": "execute_result"
    }
   ],
   "source": [
    "data.head()"
   ]
  },
  {
   "cell_type": "markdown",
   "metadata": {},
   "source": [
    "[Table of Contents](#toc)"
   ]
  },
  {
   "cell_type": "markdown",
   "metadata": {},
   "source": [
    "## Gender vs Survival <a class=\"anchor\" id=\"f1.1\"></a>\n",
    "\n",
    "In order to know if the gender of a person played an important role in the improving their survival rate, we plot the Survival vs Gender. "
   ]
  },
  {
   "cell_type": "code",
   "execution_count": 3,
   "metadata": {},
   "outputs": [
    {
     "data": {
      "text/plain": [
       "<matplotlib.axes._subplots.AxesSubplot at 0xac729e8>"
      ]
     },
     "execution_count": 3,
     "metadata": {},
     "output_type": "execute_result"
    },
    {
     "data": {
      "image/png": "[encoded data removed]",
      "text/plain": [
       "<Figure size 432x288 with 1 Axes>"
      ]
     },
     "metadata": {},
     "output_type": "display_data"
    }
   ],
   "source": [
    "data[['PassengerId','Survived','Sex']].groupby(['Sex', 'Survived']).count().unstack().plot(kind='bar', stacked=True)\n",
    "\n",
    "#Most females survived while most males died. Correlation?"
   ]
  },
  {
   "cell_type": "code",
   "execution_count": 4,
   "metadata": {},
   "outputs": [
    {
     "data": {
      "image/png": "[encoded data removed]",
      "text/plain": [
       "<Figure size 1296x576 with 2 Axes>"
      ]
     },
     "metadata": {},
     "output_type": "display_data"
    }
   ],
   "source": [
    "f,ax=plt.subplots(1,2,figsize=(18,8))\n",
    "data['Survived'].value_counts().plot.pie(explode=[0,0.1],autopct='%1.1f%%',ax=ax[0],shadow=True)\n",
    "labels = ['Not Survived', 'Survived']\n",
    "sizes = list(data['Survived'].value_counts())\n",
    "explode = (0.1, 0.1)  # only \"explode\" the 2nd slice (i.e. 'Hogs')\n",
    "data['Survived'].value_counts().plot.pie(explode=[0,0.1],autopct='%1.1f%%',ax=ax[0],shadow=True)\n",
    "ax[0].set_title('Not Survived 0 vs Survived 1')\n",
    "ax[0].set_ylabel('')\n",
    "\n",
    "sns.countplot('Survived',data=data,ax=ax[1])\n",
    "ax[1].set_title('Survived')\n",
    "plt.show()"
   ]
  },
  {
   "cell_type": "markdown",
   "metadata": {},
   "source": [
    "In totality, we can see that the persons' gender does play a crucial role. We have to dig further to know the survival rate distribution.\n",
    "\n",
    "[Table of Contents](#toc)"
   ]
  },
  {
   "cell_type": "markdown",
   "metadata": {},
   "source": [
    "## Passenger Classes vs Survival <a class=\"anchor\" id=\"f1.3\"></a>"
   ]
  },
  {
   "cell_type": "markdown",
   "metadata": {},
   "source": [
    "We need to know the exact population distribution across the different passenger classes, to see whether the passengers belonging to a particular class had a higher chance of surviving the fateful accident. "
   ]
  },
  {
   "cell_type": "code",
   "execution_count": 5,
   "metadata": {},
   "outputs": [
    {
     "data": {
      "text/plain": [
       "<matplotlib.axes._subplots.AxesSubplot at 0xae86080>"
      ]
     },
     "execution_count": 5,
     "metadata": {},
     "output_type": "execute_result"
    },
    {
     "data": {
      "image/png": "[encoded data removed]",
      "text/plain": [
       "<Figure size 432x288 with 1 Axes>"
      ]
     },
     "metadata": {},
     "output_type": "display_data"
    }
   ],
   "source": [
    "data[['PassengerId','Survived','Pclass']].groupby(['Pclass', 'Survived']).count().unstack().plot(kind='bar', stacked=True)\n",
    "#People in higher classes survived more. Correlation?"
   ]
  },
  {
   "cell_type": "code",
   "execution_count": 6,
   "metadata": {},
   "outputs": [
    {
     "data": {
      "text/html": [
       "<div>\n",
       "<style scoped>\n",
       "    .dataframe tbody tr th:only-of-type {\n",
       "        vertical-align: middle;\n",
       "    }\n",
       "\n",
       "    .dataframe tbody tr th {\n",
       "        vertical-align: top;\n",
       "    }\n",
       "\n",
       "    .dataframe thead th {\n",
       "        text-align: right;\n",
       "    }\n",
       "</style>\n",
       "<table border=\"1\" class=\"dataframe\">\n",
       "  <thead>\n",
       "    <tr style=\"text-align: right;\">\n",
       "      <th>Survived</th>\n",
       "      <th>0</th>\n",
       "      <th>1</th>\n",
       "      <th>All</th>\n",
       "    </tr>\n",
       "    <tr>\n",
       "      <th>Pclass</th>\n",
       "      <th></th>\n",
       "      <th></th>\n",
       "      <th></th>\n",
       "    </tr>\n",
       "  </thead>\n",
       "  <tbody>\n",
       "    <tr>\n",
       "      <th>1</th>\n",
       "      <td>80</td>\n",
       "      <td>136</td>\n",
       "      <td>216</td>\n",
       "    </tr>\n",
       "    <tr>\n",
       "      <th>2</th>\n",
       "      <td>97</td>\n",
       "      <td>87</td>\n",
       "      <td>184</td>\n",
       "    </tr>\n",
       "    <tr>\n",
       "      <th>3</th>\n",
       "      <td>372</td>\n",
       "      <td>119</td>\n",
       "      <td>491</td>\n",
       "    </tr>\n",
       "    <tr>\n",
       "      <th>All</th>\n",
       "      <td>549</td>\n",
       "      <td>342</td>\n",
       "      <td>891</td>\n",
       "    </tr>\n",
       "  </tbody>\n",
       "</table>\n",
       "</div>"
      ],
      "text/plain": [
       "Survived    0    1  All\n",
       "Pclass                 \n",
       "1          80  136  216\n",
       "2          97   87  184\n",
       "3         372  119  491\n",
       "All       549  342  891"
      ]
     },
     "execution_count": 6,
     "metadata": {},
     "output_type": "execute_result"
    }
   ],
   "source": [
    "pd.crosstab(data.Pclass,data.Survived,margins=True)"
   ]
  },
  {
   "cell_type": "code",
   "execution_count": null,
   "metadata": {},
   "outputs": [],
   "source": [
    "df=data[['PassengerId','Survived','Pclass']].groupby(['Survived','Pclass']).count()\n",
    "f,ax=plt.subplots(1,2,figsize=(18,8))\n",
    "df.plot.pie(autopct='%1.1f%%',ax=ax[0],shadow=True,subplots=True)\n",
    "\n",
    "sns.factorplot('Pclass','Survived',hue='Sex',data=data,ax=ax[1])\n",
    "plt.show()"
   ]
  },
  {
   "cell_type": "markdown",
   "metadata": {},
   "source": [
    "The pie chart shows that people belonging to Passenger class 3 did not survive, i.e more than two thirds of those that died belonged to Passenger Class 3."
   ]
  },
  {
   "cell_type": "code",
   "execution_count": null,
   "metadata": {},
   "outputs": [],
   "source": [
    "data[['PassengerId','Sex','Pclass']].groupby(['Pclass', 'Sex']).count().unstack().plot(kind='bar', stacked=True)\n",
    "\n",
    "#More females in higher classes (1 and 2). What can we conclude? \n",
    "#Did females survive more because they were wealthy?\n",
    "#Did wealthier people survive more because they had a high ratio of females?"
   ]
  },
  {
   "cell_type": "code",
   "execution_count": null,
   "metadata": {},
   "outputs": [],
   "source": [
    "data[['PassengerId','Survived','Sex','Pclass']].groupby(['Sex', 'Pclass', 'Survived']).count().unstack().plot(kind='bar', stacked=True)\n",
    "\n",
    "#Class does seem to affect the survival rate"
   ]
  },
  {
   "cell_type": "code",
   "execution_count": null,
   "metadata": {},
   "outputs": [],
   "source": [
    "data[['PassengerId','Survived','Sex','Pclass']].groupby(['Pclass', 'Sex', 'Survived']).count().unstack().plot(kind='bar', stacked=True)\n",
    "\n",
    "#Gender also seems to affect the survival rate"
   ]
  },
  {
   "cell_type": "markdown",
   "metadata": {},
   "source": [
    "[Table of Contents](#toc)"
   ]
  },
  {
   "cell_type": "markdown",
   "metadata": {},
   "source": [
    "## Initials vs Survival <a class=\"anchor\" id=\"f1.4\"></a>"
   ]
  },
  {
   "cell_type": "markdown",
   "metadata": {},
   "source": [
    "We use the initials such as Col/Dr/Mme, etc. to understand the person's respectability in the society as subsequently, their survival characteristics."
   ]
  },
  {
   "cell_type": "code",
   "execution_count": null,
   "metadata": {},
   "outputs": [],
   "source": [
    "data['Initial']=0\n",
    "for i in data:\n",
    "    data['Initial']=data.Name.str.extract('([A-Za-z]+)\\.')"
   ]
  },
  {
   "cell_type": "code",
   "execution_count": null,
   "metadata": {},
   "outputs": [],
   "source": [
    "pd.crosstab([data.Initial,data.Sex],[data.Survived])"
   ]
  },
  {
   "cell_type": "markdown",
   "metadata": {},
   "source": [
    "We can see that married women (Mrs), small children(Miss/Master) had higher survival rate as compared to the rest. Also,the nobility, despite being outnumbered, did get a chance to survive.\n",
    "\n",
    "[Table of Contents](#toc)"
   ]
  },
  {
   "cell_type": "markdown",
   "metadata": {},
   "source": [
    "## Group/Family vs Survival <a class=\"anchor\" id=\"f1.5\"></a>"
   ]
  },
  {
   "cell_type": "markdown",
   "metadata": {},
   "source": [
    "We need see whether those belonging to a family/group, were having higher chances of lifeboat."
   ]
  },
  {
   "cell_type": "code",
   "execution_count": null,
   "metadata": {},
   "outputs": [],
   "source": [
    "### Let's see if big families tend to survive more or less, or if it doesn't affect the survival\n",
    "#Maybe families were given priority, or maybe having too many family members hindered the survival\n",
    "\n",
    "df_sibsp = data[['PassengerId','Survived','SibSp']].groupby(['SibSp', 'Survived']).count()\n",
    "df_sibsp.unstack().plot(kind='bar', stacked=True)"
   ]
  },
  {
   "cell_type": "code",
   "execution_count": null,
   "metadata": {},
   "outputs": [],
   "source": [
    "def ratio(df, both = [], only_0 = [], only_1 = []):\n",
    "    df.loc[:,'PassengerId'] = df.loc[:, 'PassengerId'].astype(float)\n",
    "    for i in both:\n",
    "        total = df.loc[(i,0),] + df.loc[(i,1),]\n",
    "        df.loc[(i,0),] = df.loc[(i,0),]/total\n",
    "        df.loc[(i,1),] = df.loc[(i,1),]/total\n",
    "        total = 0\n",
    "    for j in only_0:\n",
    "        df.loc[(j,0),] = 1\n",
    "    for k in only_1:\n",
    "        df.loc[(j,1),] = 1\n",
    "    return df\n",
    "\n",
    "ratio(df_sibsp, range(5), [5,8]).unstack().plot(kind='bar', stacked=True)"
   ]
  },
  {
   "cell_type": "code",
   "execution_count": null,
   "metadata": {},
   "outputs": [],
   "source": [
    "df_parch = data[['PassengerId','Survived','Parch']].groupby(['Parch', 'Survived']).count()\n",
    "df_parch.unstack().plot(kind='bar', stacked=True)"
   ]
  },
  {
   "cell_type": "code",
   "execution_count": null,
   "metadata": {},
   "outputs": [],
   "source": [
    "ratio(df_parch, [0,1,2,3,5], [4,6]).unstack().plot(kind='bar', stacked=True)"
   ]
  },
  {
   "cell_type": "code",
   "execution_count": null,
   "metadata": {},
   "outputs": [],
   "source": [
    "data['FamilySize'] = data['SibSp'] + data['Parch'] + 1\n",
    "df_famsize = data[['PassengerId','Survived','FamilySize']].groupby(['FamilySize', 'Survived']).count()\n",
    "ratio(df_famsize, range(1,8), [8,11]).unstack().plot(kind='bar', stacked=True)\n",
    "\n",
    "#We notice that small families have a higher survival rate, \n",
    "#while people who are alone or in a big family have a lower survival rate"
   ]
  },
  {
   "cell_type": "code",
   "execution_count": null,
   "metadata": {},
   "outputs": [],
   "source": [
    "#Thus, it'd be more interesting to replace the quantitative FamilySize by a categorical value\n",
    "#which would take value 0 if FamilySize(=1 or >4)\n",
    "#and would take value 1 if 1<FamilySize<5\n",
    "\n",
    "size = np.zeros(891)\n",
    "for i in range(891):\n",
    "    if(data.loc[i, 'FamilySize'] > 1 and data.loc[i, 'FamilySize'] < 4):\n",
    "        size[i] = 1\n",
    "data['Size'] = size\n",
    "\n",
    "data[['PassengerId','Survived','Size']].groupby(['Size', 'Survived']).count().unstack().plot(kind='bar', stacked=True)"
   ]
  },
  {
   "cell_type": "code",
   "execution_count": null,
   "metadata": {},
   "outputs": [],
   "source": [
    "#There's another way to evaluate a travelling group's size, even if they're not a family\n",
    "#People travelling together are more likely to have bought the ticket together\n",
    "\n",
    "ticket_count = data['Ticket'].value_counts()\n",
    "data_ticket = pd.DataFrame(data={'ticket' : ticket_count.index.values, 'count' : ticket_count.values})\n",
    "\n",
    "size_t = np.zeros(891)\n",
    "for i in range(891):\n",
    "    idx = data_ticket.index[data_ticket['ticket'] == data.loc[i, 'Ticket']].tolist()[0]\n",
    "    size_t[i] = data_ticket.loc[idx, 'count']\n",
    "data['Size_t'] = size_t\n",
    "\n",
    "df_size_t = data[['PassengerId','Survived','Size_t']].groupby(['Size_t', 'Survived']).count()\n",
    "df_size_t.unstack().plot(kind='bar', stacked=True)"
   ]
  },
  {
   "cell_type": "code",
   "execution_count": null,
   "metadata": {},
   "outputs": [],
   "source": [
    "ratio(df_size_t, [1,2,3,4,7], [5,6]).unstack().plot(kind='bar', stacked=True)\n",
    "\n",
    "#For this feature as well, a size between 2 and 4 is linked to a bigger chance of survival,\n",
    "#Therefore using it would be redundant"
   ]
  },
  {
   "cell_type": "markdown",
   "metadata": {},
   "source": [
    "[Table of Contents](#toc)"
   ]
  },
  {
   "cell_type": "markdown",
   "metadata": {},
   "source": [
    "## Fare vs Survival <a class=\"anchor\" id=\"f1.6\"></a>"
   ]
  },
  {
   "cell_type": "markdown",
   "metadata": {},
   "source": [
    "There is a saying that money can buy everything. Can it buy higher survivability?"
   ]
  },
  {
   "cell_type": "code",
   "execution_count": null,
   "metadata": {},
   "outputs": [],
   "source": [
    "f,ax=plt.subplots(1,3,figsize=(20,8))\n",
    "sns.distplot(data[data['Pclass']==1].Fare,ax=ax[0])\n",
    "ax[0].set_title('Fares in Pclass 1')\n",
    "sns.distplot(data[data['Pclass']==2].Fare,ax=ax[1])\n",
    "ax[1].set_title('Fares in Pclass 2')\n",
    "sns.distplot(data[data['Pclass']==3].Fare,ax=ax[2])\n",
    "ax[2].set_title('Fares in Pclass 3')\n",
    "plt.show()"
   ]
  },
  {
   "cell_type": "code",
   "execution_count": null,
   "metadata": {},
   "outputs": [],
   "source": [
    "data.boxplot('Fare', by='Pclass')\n",
    "\n",
    "#The ticket fare seems to be highly correlated to the class."
   ]
  },
  {
   "cell_type": "code",
   "execution_count": null,
   "metadata": {},
   "outputs": [],
   "source": [
    "data.boxplot('Fare', by=['Pclass', 'Survived'])\n",
    "\n",
    "#In the same class, a difference of ticket fare only seems to affect the survival rate for class 1\n",
    "#In any case, rich people are more likely to survive \n",
    "\n",
    "#Conclusion : Keep or drop Fare/Pclass? Any new feature to extract?"
   ]
  },
  {
   "cell_type": "code",
   "execution_count": null,
   "metadata": {},
   "outputs": [],
   "source": [
    "bins = [0, 1, 5, 10, 25, 50, 100, 200, 300, 400, 500, 600]\n",
    "data['Farebin'] = pd.cut(data['Fare'], bins)\n",
    "pd.crosstab([data.Farebin,data.Sex],[data.Survived])\n",
    "\n",
    "df=data[['PassengerId','Survived','Farebin']].groupby(['Survived','Farebin']).count()\n",
    "f,ax=plt.subplots(figsize=(10,10))\n",
    "patches = df.plot.pie(autopct='%1.1f%%',ax=ax,shadow=True,subplots=True)\n",
    "#list(patches)"
   ]
  },
  {
   "cell_type": "markdown",
   "metadata": {},
   "source": [
    "[Table of Contents](#toc)"
   ]
  },
  {
   "cell_type": "markdown",
   "metadata": {},
   "source": [
    "## Embarked vs Survival <a class=\"anchor\" id=\"f1.7\"></a>"
   ]
  },
  {
   "cell_type": "markdown",
   "metadata": {},
   "source": [
    "We need to see whether there is a correlation between the boarding point and the survival chances. "
   ]
  },
  {
   "cell_type": "code",
   "execution_count": null,
   "metadata": {},
   "outputs": [],
   "source": [
    "df_emb = data[['PassengerId','Survived','Embarked']].groupby(['Embarked', 'Survived']).count()\n",
    "df_emb.unstack().plot(kind='bar', stacked=True)"
   ]
  },
  {
   "cell_type": "code",
   "execution_count": null,
   "metadata": {},
   "outputs": [],
   "source": [
    "ratio(df_emb, ['C', 'Q', 'S']).unstack().plot(kind='bar', stacked=True)\n",
    "\n",
    "#It seems like for people who embarked at port C, the chance of survival is higher than for people\n",
    "#who embarked at ports Q and S"
   ]
  },
  {
   "cell_type": "code",
   "execution_count": null,
   "metadata": {},
   "outputs": [],
   "source": [
    "    f,ax=plt.subplots(2,2,figsize=(20,15))\n",
    "    sns.countplot('Embarked',data=data,ax=ax[0,0])\n",
    "    ax[0,0].set_title('No. Of Passengers Boarded')\n",
    "    sns.countplot('Embarked',hue='Sex',data=data,ax=ax[0,1])\n",
    "    ax[0,1].set_title('Male-Female Split for Embarked')\n",
    "    sns.countplot('Embarked',hue='Survived',data=data,ax=ax[1,0])\n",
    "    ax[1,0].set_title('Embarked vs Survived')\n",
    "    sns.countplot('Embarked',hue='Pclass',data=data,ax=ax[1,1])\n",
    "    ax[1,1].set_title('Embarked vs Pclass')\n",
    "    plt.subplots_adjust(wspace=0.2,hspace=0.5)\n",
    "    plt.show()"
   ]
  },
  {
   "cell_type": "code",
   "execution_count": null,
   "metadata": {},
   "outputs": [],
   "source": [
    "pd.crosstab([data.Embarked,data.Pclass],[data.Sex,data.Survived],margins=True)"
   ]
  },
  {
   "cell_type": "code",
   "execution_count": null,
   "metadata": {},
   "outputs": [],
   "source": [
    "sns.factorplot('Pclass','Survived',hue='Sex',col='Embarked',data=data)\n",
    "plt.show()"
   ]
  },
  {
   "cell_type": "markdown",
   "metadata": {},
   "source": [
    "[Table of Contents](#toc)"
   ]
  },
  {
   "cell_type": "markdown",
   "metadata": {},
   "source": [
    "## Handling Missing Values <a class=\"anchor\" id=\"f2\"></a>"
   ]
  },
  {
   "cell_type": "code",
   "execution_count": null,
   "metadata": {},
   "outputs": [],
   "source": [
    "data_test = pd.read_csv(path + 'test.csv')"
   ]
  },
  {
   "cell_type": "code",
   "execution_count": null,
   "metadata": {},
   "outputs": [],
   "source": [
    "for i in range(891):\n",
    "    data['Initial']=data.Name.str.extract('([A-Za-z]+)\\.')"
   ]
  },
  {
   "cell_type": "code",
   "execution_count": null,
   "metadata": {},
   "outputs": [],
   "source": [
    "#Let's see if we have any missing values in our data\n",
    "\n",
    "col_na = []\n",
    "nb_na = np.zeros(data.shape[1])\n",
    "for i in range(data.shape[1]):\n",
    "    col_na.append(data.columns[i])\n",
    "    nb_na[i] = data.iloc[:,i].isna().sum()\n",
    "df_na = pd.DataFrame(col_na, nb_na)\n",
    "df_na\n",
    "\n",
    "#We need to find a way to fill Age, Cabin and Embarked"
   ]
  },
  {
   "cell_type": "markdown",
   "metadata": {},
   "source": [
    "## Embarked:Missing Value <a class=\"anchor\" id=\"f2.1\"></a>\n",
    "\n",
    "We use the most common boarding location to fill the missing values of Embarked column. "
   ]
  },
  {
   "cell_type": "code",
   "execution_count": null,
   "metadata": {},
   "outputs": [],
   "source": [
    "#Filling missing Embarked values\n",
    "#If we can find another passanger with the same ticket, we can use their Embarked value to fill the NA\n",
    "\n",
    "missing_emb = data.index[data['Embarked'].isna()].tolist()\n",
    "#ticket = np.zeros(len(missing_emb))\n",
    "\n",
    "#for i in range(len(missing_emb)):\n",
    "#    for j in range(891):\n",
    "#        if(j != missing_emb[i] and data.loc[j, 'Ticket'] == data.loc[missing_emb[i], 'Ticket']):\n",
    "#            ticket[i] = data.loc[j, 'Ticket']\n",
    "\n",
    "#data['Embarked'].fillna('S',inplace=True)\n",
    "data.Embarked.isnull().any()# Finally No NaN values"
   ]
  },
  {
   "cell_type": "code",
   "execution_count": null,
   "metadata": {},
   "outputs": [],
   "source": [
    "#data.index[data['Ticket'] == ticket[0]].tolist()"
   ]
  },
  {
   "cell_type": "code",
   "execution_count": null,
   "metadata": {},
   "outputs": [],
   "source": [
    "#No one else has the same ticket, so the second best option is probably to fill the column\n",
    "#with the most common value\n",
    "\n",
    "data['Embarked'].value_counts()\n",
    "sns.countplot('Embarked',data=data)"
   ]
  },
  {
   "cell_type": "markdown",
   "metadata": {},
   "source": [
    "[Table of Contents](#toc)"
   ]
  },
  {
   "cell_type": "markdown",
   "metadata": {},
   "source": [
    "## Age:Missing Value <a class=\"anchor\" id=\"f2.2\"></a>"
   ]
  },
  {
   "cell_type": "markdown",
   "metadata": {},
   "source": [
    "We use the kNN algorithm to compute the missing age values. We use Pclass, Sex, SibSp and Initials."
   ]
  },
  {
   "cell_type": "code",
   "execution_count": null,
   "metadata": {},
   "outputs": [],
   "source": [
    "### To fill missing age, we can look for a relationship with other variables\n",
    "\n",
    "data.boxplot('Age', by='Sex')\n",
    "\n",
    "#Age is distributed differently for males and females"
   ]
  },
  {
   "cell_type": "code",
   "execution_count": null,
   "metadata": {},
   "outputs": [],
   "source": [
    "data.boxplot('Age', by='Pclass')\n",
    "\n",
    "#Age is distributed even more differently depending on class"
   ]
  },
  {
   "cell_type": "code",
   "execution_count": null,
   "metadata": {},
   "outputs": [],
   "source": [
    "data.boxplot('Age', by='SibSp')\n",
    "\n",
    "#Someone with a SibSp higher than 2 is travelling with siblings,\n",
    "#it's more likely to be someone young travelling with their family"
   ]
  },
  {
   "cell_type": "code",
   "execution_count": null,
   "metadata": {},
   "outputs": [],
   "source": [
    "data.boxplot('Age', by='Initial',autorange=True)"
   ]
  },
  {
   "cell_type": "code",
   "execution_count": null,
   "metadata": {},
   "outputs": [],
   "source": [
    "data.Initial = pd.Categorical(data.Initial).codes\n",
    "#data.Initial, mapping_index = pd.Series(data.Initial).factorize()\n",
    "#data.head()"
   ]
  },
  {
   "cell_type": "code",
   "execution_count": null,
   "metadata": {},
   "outputs": [],
   "source": [
    "data.replace('male', 0, inplace=True)\n",
    "data.replace('female', 1, inplace=True)\n",
    "data.tail()"
   ]
  },
  {
   "cell_type": "code",
   "execution_count": null,
   "metadata": {},
   "outputs": [],
   "source": [
    "#We can try to fill the missing age values thanks to class and gender, using KNN\n",
    "\n",
    "reg = KNeighborsRegressor(n_neighbors=3)\n",
    "data_age = (data.loc[data['Age'].isna() == False]).iloc[:,[2,4,5,6,12]]\n",
    "X_age = data_age[['Pclass','Sex','SibSp', 'Initial']]\n",
    "y_age = data_age['Age']\n",
    "X_age_train, X_age_test, y_age_train, y_age_test = train_test_split(X_age, y_age, test_size=0.33)\n",
    "reg.fit(X_age_train, y_age_train)\n",
    "pred_age = reg.predict((data.loc[data['Age'].isna() == True]).iloc[:,[2,4,6,12]])\n",
    "reg.score(X_age_test, y_age_test)"
   ]
  },
  {
   "cell_type": "code",
   "execution_count": null,
   "metadata": {},
   "outputs": [],
   "source": [
    "data.boxplot('Age', by='Survived')"
   ]
  },
  {
   "cell_type": "code",
   "execution_count": null,
   "metadata": {},
   "outputs": [],
   "source": [
    "f,ax=plt.subplots(1,2,figsize=(20,10))\n",
    "data[data['Survived']==0].Age.plot.hist(ax=ax[0],bins=20,edgecolor='black',color='blue')\n",
    "ax[0].set_title('Did Not Survive')\n",
    "ax[0].set_xlabel('Age Group')\n",
    "x1=list(range(0,85,5))\n",
    "ax[0].set_xticks(x1)\n",
    "data[data['Survived']==1].Age.plot.hist(ax=ax[1],color='orange',bins=20,edgecolor='black')\n",
    "ax[1].set_title('Survived')\n",
    "ax[1].set_xlabel('Age Group')\n",
    "x2=list(range(0,85,5))\n",
    "ax[1].set_xticks(x2)\n",
    "plt.show()"
   ]
  },
  {
   "cell_type": "markdown",
   "metadata": {},
   "source": [
    "To conclude, there were 3 age groups that had a higher chance of survival.\n",
    "    1. Toddlers (0-5 yrs)\n",
    "    2. Teenagers (15-20 yrs)\n",
    "    3. Elderly (75 yrs above)\n",
    "    \n",
    "[Table of Contents](#toc)"
   ]
  },
  {
   "cell_type": "markdown",
   "metadata": {},
   "source": [
    "## Cabin:Missing Value <a class=\"anchor\" id=\"f2.3\"></a>"
   ]
  },
  {
   "cell_type": "code",
   "execution_count": null,
   "metadata": {},
   "outputs": [],
   "source": [
    "### Missing values for cabin\n",
    "\n",
    "data[['PassengerId', 'Pclass']].where(data['Cabin'].isna()).groupby(['Pclass']).count()\n",
    "sns.countplot('Pclass',data=data.where(data['Cabin'].isna()))"
   ]
  },
  {
   "cell_type": "code",
   "execution_count": null,
   "metadata": {},
   "outputs": [],
   "source": [
    "data[['PassengerId', 'Pclass']].groupby(['Pclass']).count()\n",
    "\n",
    "#Cabin seems to only be interesting for passengers of the class 1, which are a minority"
   ]
  },
  {
   "cell_type": "code",
   "execution_count": null,
   "metadata": {},
   "outputs": [],
   "source": [
    "#location = []\n",
    "#for i in range(891):\n",
    "#    if(isinstance(data.loc[i, 'Cabin'], str)):\n",
    "#        location.append(data.loc[i, 'Cabin'][0])\n",
    "#    else:\n",
    "#        location.append(np.nan)\n",
    "#data['Location'] = location"
   ]
  },
  {
   "cell_type": "markdown",
   "metadata": {},
   "source": [
    "[Table of Contents](#toc)"
   ]
  },
  {
   "cell_type": "markdown",
   "metadata": {},
   "source": [
    "## Feature Engineering  <a class=\"anchor\" id=\"f3\"></a>"
   ]
  },
  {
   "cell_type": "code",
   "execution_count": null,
   "metadata": {},
   "outputs": [],
   "source": [
    "#We can replace this feature with a 0 for ports Q and S, and 1 for port C\n",
    "\n",
    "data.replace('C', 1, inplace=True)\n",
    "data.replace('Q', 0, inplace=True)\n",
    "data.replace('S', 0, inplace=True)"
   ]
  },
  {
   "cell_type": "code",
   "execution_count": null,
   "metadata": {},
   "outputs": [],
   "source": [
    "### This should be the final line of code\n",
    "### It generates a clean csv to be used for training our models\n",
    "\n",
    "data[['Survived', 'Pclass', 'Sex', 'Age', 'Fare', 'Size', 'Embarked']].to_csv('./cleanData/train.csv')"
   ]
  }
 ],
 "metadata": {
  "kernelspec": {
   "display_name": "Python 3",
   "language": "python",
   "name": "python3"
  },
  "language_info": {
   "codemirror_mode": {
    "name": "ipython",
    "version": 3
   },
   "file_extension": ".py",
   "mimetype": "text/x-python",
   "name": "python",
   "nbconvert_exporter": "python",
   "pygments_lexer": "ipython3",
   "version": "3.6.5"
  }
 },
 "nbformat": 4,
 "nbformat_minor": 2
}
